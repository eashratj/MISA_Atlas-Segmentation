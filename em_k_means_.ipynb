{
  "nbformat": 4,
  "nbformat_minor": 0,
  "metadata": {
    "colab": {
      "provenance": [],
      "include_colab_link": true
    },
    "kernelspec": {
      "name": "python3",
      "display_name": "Python 3"
    },
    "language_info": {
      "name": "python"
    }
  },
  "cells": [
    {
      "cell_type": "markdown",
      "metadata": {
        "id": "view-in-github",
        "colab_type": "text"
      },
      "source": [
        "<a href=\"https://colab.research.google.com/github/workwithjahan/MISA_Atlas-Segmentation/blob/main/em_k_means_.ipynb\" target=\"_parent\"><img src=\"https://colab.research.google.com/assets/colab-badge.svg\" alt=\"Open In Colab\"/></a>"
      ]
    },
    {
      "cell_type": "code",
      "execution_count": null,
      "metadata": {
        "id": "GeBl-cLhxUzH"
      },
      "outputs": [],
      "source": [
        "from os import listdir\n",
        "from os.path import isdir, join\n",
        "import os\n",
        "import numpy as np\n",
        "import nibabel as nib\n",
        "import matplotlib.pyplot as plt\n",
        "%matplotlib inline\n",
        "\n",
        "\n",
        "\n",
        "from sklearn.cluster import KMeans\n",
        "from numpy.linalg import inv, det, norm\n",
        "from math import sqrt, pi\n",
        "from functools import partial\n",
        "#from scipy.spatial.distance import dice"
      ]
    },
    {
      "cell_type": "code",
      "source": [
        "def gaussian_mixture(features, mean, cov):\n",
        "    \"\"\"\n",
        "\n",
        "    \"\"\"\n",
        "    return np.exp(-0.5*(features - mean) * (1/cov) * np.transpose(features - mean)) / (2 * pi * sqrt(cov))\n",
        "\n",
        "\n",
        "def membership_weight(p0, p1, p2, a0, a1, a2):\n",
        "\n",
        "    denominator = (p0 * a0) + (p1 * a1) + (p2 * a2)\n",
        "    w0 = (p0 * a0) / denominator\n",
        "    w1 = (p1 * a1) / denominator\n",
        "    w2 = (p2 * a2) / denominator\n",
        "    \n",
        "    return np.stack((w0, w1, w2), axis=1)\n",
        "\n",
        "def get_log_likelihood(class_dist, gauss_density):\n",
        "    \"\"\"\n",
        "    Return loglikelihood.\n",
        "    \n",
        "    Parameters:\n",
        "        class_dist: iterable with class distributions.\n",
        "        gauss_density: iterable with Gaussian densities for each class.\n",
        "    \n",
        "    Returns:\n",
        "        float: log likelihood value. \n",
        "    \"\"\"\n",
        "    for index, alpha in enumerate(class_dist):\n",
        "        if index == 0:\n",
        "            total_sum = alpha * gauss_density[index]\n",
        "        else:\n",
        "            total_sum += alpha * gauss_density[index]\n",
        "    \n",
        "    return np.sum(np.log(total_sum))\n",
        "\n",
        "\n"
      ],
      "metadata": {
        "id": "jibsRm4h7f52"
      },
      "execution_count": null,
      "outputs": []
    },
    {
      "cell_type": "code",
      "source": [
        "# numeric labels for brain tissue types\n",
        "CSF_label = 1\n",
        "GM_label = 3\n",
        "WM_label = 2"
      ],
      "metadata": {
        "id": "-7f1V40n3Y2z"
      },
      "execution_count": null,
      "outputs": []
    },
    {
      "cell_type": "code",
      "source": [
        "MAX_STEPS = 30\n",
        "min_change = 0.01"
      ],
      "metadata": {
        "id": "BJ1Mk-XN7TJx"
      },
      "execution_count": null,
      "outputs": []
    },
    {
      "cell_type": "code",
      "source": [
        "from google.colab import drive\n",
        "drive.mount('/content/drive')"
      ],
      "metadata": {
        "colab": {
          "base_uri": "https://localhost:8080/"
        },
        "id": "bb14ZQc2A8fv",
        "outputId": "a6e08fe4-95a9-440f-dc1c-2352f8729e9a"
      },
      "execution_count": null,
      "outputs": [
        {
          "output_type": "stream",
          "name": "stdout",
          "text": [
            "Drive already mounted at /content/drive; to attempt to forcibly remount, call drive.mount(\"/content/drive\", force_remount=True).\n"
          ]
        }
      ]
    },
    {
      "cell_type": "code",
      "source": [
        "# let's load from google drive\n",
        "from google.colab import drive\n",
        "\n",
        "# This will prompt for authorization.\n",
        "drive.mount('/content/drive')\n",
        "# Define the root data directory\n",
        "\n",
        "\n",
        "test1=nib.load('/content/drive/MyDrive/MISA_MIRA_3/testing_images/1003.nii.gz')\n",
        "test=test1.get_fdata()\n",
        "\n",
        "mask=nib.load('/content/drive/MyDrive/MISA_MIRA_3/testing_mask/1003_1C.nii.gz')\n",
        "mask_data=mask.get_fdata()\n",
        "test_masked=np.multiply(test,mask_data)\n",
        "\n",
        "label=nib.load('/content/drive/MyDrive/MISA_MIRA_3/testing_labels/1003_3C.nii.gz')\n",
        "gt=label.get_fdata()"
      ],
      "metadata": {
        "colab": {
          "base_uri": "https://localhost:8080/"
        },
        "id": "BjZnPjG68J5x",
        "outputId": "69129986-87ac-41cd-a042-247a884f6eaf"
      },
      "execution_count": null,
      "outputs": [
        {
          "output_type": "stream",
          "name": "stdout",
          "text": [
            "Drive already mounted at /content/drive; to attempt to forcibly remount, call drive.mount(\"/content/drive\", force_remount=True).\n"
          ]
        }
      ]
    },
    {
      "cell_type": "code",
      "source": [
        "# Pre-process feature vector to remove background points from algorithm\n",
        "            # and save those indicies to add back\n",
        "features = test_masked.copy().flatten()\n",
        "features = np.transpose(features)   \n",
        "features_nonzero_row_indicies = np.nonzero(features)\n",
        "features_nonzero = features[features_nonzero_row_indicies]"
      ],
      "metadata": {
        "id": "UFUAHtga8Fa2"
      },
      "execution_count": null,
      "outputs": []
    },
    {
      "cell_type": "markdown",
      "source": [
        "#initialization"
      ],
      "metadata": {
        "id": "cmHvgy1ryAb1"
      }
    },
    {
      "cell_type": "markdown",
      "source": [
        "K-means"
      ],
      "metadata": {
        "id": "6_j6gzXQyC6V"
      }
    },
    {
      "cell_type": "code",
      "source": [
        "'''\n",
        "features_nonzero_reshaped = features_nonzero.reshape(-1, 1)\n",
        "#kmeans\n",
        "\n",
        "kmeans = KMeans(n_clusters=3, random_state=0, init='k-means++')\\\n",
        ".fit(features_nonzero_reshaped)\n",
        "y_pred = kmeans.predict(features_nonzero_reshaped)\n",
        "centroids = kmeans.cluster_centers_\n",
        "'''"
      ],
      "metadata": {
        "id": "HoECkGk58ZWl"
      },
      "execution_count": null,
      "outputs": []
    },
    {
      "cell_type": "markdown",
      "source": [],
      "metadata": {
        "id": "w3kulUs1yEfd"
      }
    },
    {
      "cell_type": "code",
      "source": [
        "tissue_model_load=nib.load('/content/drive/MyDrive/MISA_MIRA_3/label_propagation_seg_atlas/mni/MNI_Label_Propa_1003.nii.gz')\n",
        "t_m=test=tissue_model_load.get_fdata()\n",
        "plt.imshow(t_m[:,128,:],cmap='gray')\n"
      ],
      "metadata": {
        "colab": {
          "base_uri": "https://localhost:8080/",
          "height": 287
        },
        "id": "X7PpoXZCApxI",
        "outputId": "e4610043-238d-4c14-eea1-e8d1ef2a3f41"
      },
      "execution_count": null,
      "outputs": [
        {
          "output_type": "execute_result",
          "data": {
            "text/plain": [
              "<matplotlib.image.AxesImage at 0x7f2f55345b90>"
            ]
          },
          "metadata": {},
          "execution_count": 1590
        },
        {
          "output_type": "display_data",
          "data": {
            "text/plain": [
              "<Figure size 432x288 with 1 Axes>"
            ],
            "image/png": "[encoded data removed]"
          },
          "metadata": {
            "needs_background": "light"
          }
        }
      ]
    },
    {
      "cell_type": "code",
      "source": [
        "'''tissue_model_load=nib.load('/content/drive/MyDrive/MISA_MIRA_3/tissue_model_seg_atlas_images/Tissue_Model_Atlas_Seg_1003.nii.gz')\n",
        "t_m=test=tissue_model_load.get_fdata()\n",
        "plt.imshow(t_m[:,128,:],cmap='gray')\n",
        "'''"
      ],
      "metadata": {
        "id": "QVBFftqCx_3C"
      },
      "execution_count": null,
      "outputs": []
    },
    {
      "cell_type": "code",
      "source": [
        "np.unique(t_m)"
      ],
      "metadata": {
        "colab": {
          "base_uri": "https://localhost:8080/"
        },
        "id": "nNxpqOB25fLu",
        "outputId": "4335393e-c824-4342-8bf7-e0fd58ca8cf6"
      },
      "execution_count": null,
      "outputs": [
        {
          "output_type": "execute_result",
          "data": {
            "text/plain": [
              "array([0., 1., 2., 3.])"
            ]
          },
          "metadata": {},
          "execution_count": 1591
        }
      ]
    },
    {
      "cell_type": "code",
      "source": [
        "CSF_label=1\n",
        "GM_label=3\n",
        "WM_label=2\n",
        "CSF=(t_m == CSF_label)*1\n",
        "GM=(t_m == GM_label)*1\n",
        "WM=(t_m == WM_label)*1\n",
        "\n",
        "plt.imshow(CSF[:,128,:],cmap='gray')"
      ],
      "metadata": {
        "colab": {
          "base_uri": "https://localhost:8080/",
          "height": 287
        },
        "id": "LPJffEFrycR1",
        "outputId": "ad2a0c4c-d6bb-418f-d6d9-60c7de7606a7"
      },
      "execution_count": null,
      "outputs": [
        {
          "output_type": "execute_result",
          "data": {
            "text/plain": [
              "<matplotlib.image.AxesImage at 0x7f2f553f5ad0>"
            ]
          },
          "metadata": {},
          "execution_count": 1592
        },
        {
          "output_type": "display_data",
          "data": {
            "text/plain": [
              "<Figure size 432x288 with 1 Axes>"
            ],
            "image/png": "[encoded data removed]"
          },
          "metadata": {
            "needs_background": "light"
          }
        }
      ]
    },
    {
      "cell_type": "code",
      "source": [
        "#flatten\n",
        "csf_flat=CSF.flatten()\n",
        "gm_flat=GM.flatten()\n",
        "wm_flat=WM.flatten()\n",
        "features_nonzero_pred = np.array((csf_flat[features_nonzero_row_indicies],\n",
        "                                                  wm_flat[features_nonzero_row_indicies],\n",
        "                                                  gm_flat[features_nonzero_row_indicies]))\n",
        "y_pred= np.argmax(features_nonzero_pred, axis=0)\n"
      ],
      "metadata": {
        "id": "Q3mr9XAmy1CD"
      },
      "execution_count": null,
      "outputs": []
    },
    {
      "cell_type": "code",
      "source": [
        "\n",
        "def dice_similarity(Seg_img, GT_img,state):\n",
        "    \"\"\"   \n",
        "    Inputs:\n",
        "        Seg_img (numpy.ndarray): Segmented Image.\n",
        "        GT_img (numpy.ndarray): Ground Truth Image.\n",
        "        State: \"nifti\" if the images are nifti file\n",
        "               \"arr\"   if the images are an ndarray\n",
        "    output:\n",
        "        Dice Similarity Coefficient: dice_CSF, dice_GM, dice_WM.\"\"\"\n",
        "        \n",
        "    import numpy as np\n",
        "    if (state==\"nifti\"):\n",
        "       segmented_data = Seg_img.get_data().copy()\n",
        "       groundtruth_data = GT_img.get_data().copy()\n",
        "    elif (state==\"arr\"):\n",
        "       segmented_data = Seg_img.copy()\n",
        "       groundtruth_data = GT_img.copy()\n",
        "    \n",
        "    #Calculte DICE\n",
        "    def dice_coefficient(SI,GT):\n",
        "        #   2 * TP / (FN + (2 * TP) + FP)\n",
        "        intersection = np.logical_and(SI, GT)\n",
        "        return 2. * intersection.sum() / (SI.sum() + GT.sum())\n",
        "    \n",
        "    #Dice  for CSF\n",
        "    Seg_CSF = (segmented_data == 1)\n",
        "    GT_CSF = (groundtruth_data == 1)\n",
        "    dice_CSF = dice_coefficient(Seg_CSF, GT_CSF)\n",
        "    #Dice  for GM\n",
        "    Seg_GM = (segmented_data == 2)\n",
        "    GT_GM = (groundtruth_data == 2)\n",
        "    dice_GM = dice_coefficient(Seg_GM, GT_GM)\n",
        "    #Dice  for WM\n",
        "    Seg_WM = (segmented_data == 3)\n",
        "    GT_WM = (groundtruth_data == 3)\n",
        "    dice_WM = dice_coefficient(Seg_WM, GT_WM)\n",
        "    \n",
        "    return dice_CSF, dice_GM, dice_WM"
      ],
      "metadata": {
        "id": "rK7Z0Bze_dJ3"
      },
      "execution_count": null,
      "outputs": []
    },
    {
      "cell_type": "markdown",
      "source": [
        "EM"
      ],
      "metadata": {
        "id": "mt4huYpJ9LRJ"
      }
    },
    {
      "cell_type": "code",
      "source": [
        "# intialize EM algorithm\n",
        "class0 = features_nonzero[np.argwhere(y_pred == 0)[:,0]]\n",
        "class1 = features_nonzero[np.argwhere(y_pred == 1)[:,0]]\n",
        "class2 = features_nonzero[np.argwhere(y_pred == 2)[:,0]]\n",
        "  # Compute mean and variance of each class\n",
        "mean0 = np.mean(class0, axis = 0)\n",
        "mean1 = np.mean(class1, axis = 0)\n",
        "mean2 = np.mean(class2, axis = 0)\n",
        "cov0 = np.cov(class0, rowvar = False)\n",
        "cov1 = np.cov(class1, rowvar = False)\n",
        "cov2 = np.cov(class2, rowvar = False)\n",
        "# Class distribution\n",
        "a0 = class0.shape[0] / features_nonzero.shape[0]\n",
        "a1 = class1.shape[0] / features_nonzero.shape[0]\n",
        "a2 = class2.shape[0] / features_nonzero.shape[0]\n",
        "\n",
        "# Compute Gaussian mixture model for each point\n",
        "p0 = gaussian_mixture(features_nonzero,  mean = mean0, cov = cov0)\n",
        "p1 = gaussian_mixture(features_nonzero,  mean = mean1, cov = cov1)\n",
        "p2 = gaussian_mixture(features_nonzero,  mean = mean2, cov = cov2)\n",
        "\n",
        "# # Compute membership weight for each point\n",
        "weights = membership_weight(p0, p1, p2, a0, a1, a2)\n",
        " # get initial log-likelihood\n",
        "log_likelihood = get_log_likelihood((a0, a1, a2), (p0, p1, p2))"
      ],
      "metadata": {
        "id": "VlhXW45w9MH2"
      },
      "execution_count": null,
      "outputs": []
    },
    {
      "cell_type": "code",
      "source": [
        "n_steps = 0\n",
        "\n",
        "while True:\n",
        "  # Maximization step: Use that classification to reestimate the parameters\n",
        "                # Class distribution\n",
        "  counts = np.sum(weights, axis=0)\n",
        "  a0 = counts[0] / len(features_nonzero)\n",
        "  a1 = counts[1] / len(features_nonzero)\n",
        "  a2 = counts[2] / len(features_nonzero)\n",
        "\n",
        "\n",
        "# Calculate mean and covariance for new classes\n",
        "  mean0 = (1/counts[0]) * (weights[:, 0] @ features_nonzero)\n",
        "  mean1 = (1/counts[1]) * (weights[:, 1] @ features_nonzero)\n",
        "  mean2 = (1/counts[2]) * (weights[:, 2] @ features_nonzero)\n",
        "  cov0 = (1/counts[0]) * ((weights[:, 0] * (features_nonzero - mean0)) @ (features_nonzero - mean0))\n",
        "  cov1 = (1/counts[1]) * ((weights[:, 1] * (features_nonzero - mean1)) @ (features_nonzero - mean1))\n",
        "  cov2 = (1/counts[2]) * ((weights[:, 2] * (features_nonzero - mean2)) @ (features_nonzero - mean2))\n",
        "\n",
        "  p0 = gaussian_mixture(features_nonzero,  mean = mean0, cov = cov0)\n",
        "  p1 = gaussian_mixture(features_nonzero,  mean = mean1, cov = cov1)\n",
        "  p2 = gaussian_mixture(features_nonzero,  mean = mean2, cov = cov2)\n",
        "\n",
        "\n",
        "# Compute membership weight for each point\n",
        "  weights = membership_weight(p0, p1, p2, a0, a1, a2)\n",
        "  log_likelihood_new = get_log_likelihood((a0, a1, a2), (p0, p1, p2))\n",
        "\n",
        "  dist_change = abs((log_likelihood_new - log_likelihood) / log_likelihood)\n",
        "  print(\"********************************************************************\")\n",
        "  #print(f\"Img {f}\")\n",
        "  print(\"Step %d\" % n_steps)\n",
        "  print(\"Distribution change %f\" % dist_change)\n",
        "  print(a0, a1, a2)\n",
        "\n",
        "  n_steps += 1\n",
        "\n",
        "  \n",
        "# check whether we reached desired precision or max number of steps\n",
        "  if (n_steps >= MAX_STEPS) or (dist_change <= min_change):\n",
        "      print(\"Loop stopped\")\n",
        "      break\n",
        "  else:\n",
        "      log_likelihood = log_likelihood_new\n",
        "y_pred = np.argmax(weights, axis=1)+1\n",
        "y_pred"
      ],
      "metadata": {
        "colab": {
          "base_uri": "https://localhost:8080/"
        },
        "id": "vUOByYva910R",
        "outputId": "c2e9fafd-5290-43a1-ef97-da34da2e7f9f"
      },
      "execution_count": null,
      "outputs": [
        {
          "output_type": "stream",
          "name": "stdout",
          "text": [
            "********************************************************************\n",
            "Step 0\n",
            "Distribution change 0.002555\n",
            "0.0341334315576419 0.30947688874111356 0.656389679701018\n",
            "Loop stopped\n"
          ]
        },
        {
          "output_type": "execute_result",
          "data": {
            "text/plain": [
              "array([3, 3, 3, ..., 3, 3, 3])"
            ]
          },
          "metadata": {},
          "execution_count": 1597
        }
      ]
    },
    {
      "cell_type": "code",
      "source": [
        "# Recontruction of the image\n",
        "# =============================================================================\n",
        "shape_original_image=test_masked.shape\n",
        "shape_flatten=features.shape\n",
        "segmented_image=np.zeros(shape_flatten)\n",
        "segmented_image[features_nonzero_row_indicies]=y_pred\n",
        "Seg=np.reshape(segmented_image,shape_original_image)\n",
        "\n",
        "plt.imshow(Seg[:,128,:], cmap='gray')\n",
        "plt.show()\n",
        "plt.imshow(gt[:,128,:], cmap='gray')\n",
        "plt.show()"
      ],
      "metadata": {
        "id": "qYgfdR4HAXeU",
        "colab": {
          "base_uri": "https://localhost:8080/",
          "height": 521
        },
        "outputId": "e7f2eafe-451f-46ec-e129-6cd00dc216eb"
      },
      "execution_count": null,
      "outputs": [
        {
          "output_type": "display_data",
          "data": {
            "text/plain": [
              "<Figure size 432x288 with 1 Axes>"
            ],
            "image/png": "[encoded data removed]"
          },
          "metadata": {
            "needs_background": "light"
          }
        },
        {
          "output_type": "display_data",
          "data": {
            "text/plain": [
              "<Figure size 432x288 with 1 Axes>"
            ],
            "image/png": "[encoded data removed]"
          },
          "metadata": {
            "needs_background": "light"
          }
        }
      ]
    },
    {
      "cell_type": "code",
      "source": [
        "print(np.unique(gt))\n",
        "print(np.unique(y_pred))"
      ],
      "metadata": {
        "colab": {
          "base_uri": "https://localhost:8080/"
        },
        "id": "UC2ydHTc55G_",
        "outputId": "34a66bc4-b3f2-459b-9f03-a0382f53b004"
      },
      "execution_count": null,
      "outputs": [
        {
          "output_type": "stream",
          "name": "stdout",
          "text": [
            "[0. 1. 2. 3.]\n",
            "[1 2 3]\n"
          ]
        }
      ]
    },
    {
      "cell_type": "code",
      "source": [
        "####CALCULATINg DICE\n",
        "dice_CSF, dice_GM, dice_WM = dice_similarity(Seg,gt,\"arr\")\n",
        "print(\"CSF DICE = {}\".format(dice_CSF), \"GM DICE = {}\".format(dice_GM), \"WM DICE = {}\".format(dice_WM))"
      ],
      "metadata": {
        "colab": {
          "base_uri": "https://localhost:8080/"
        },
        "id": "OJzMRgqj_U-x",
        "outputId": "21fa892e-af76-44dc-9c19-96f469874e41"
      },
      "execution_count": null,
      "outputs": [
        {
          "output_type": "stream",
          "name": "stdout",
          "text": [
            "CSF DICE = 0.0 GM DICE = 0.9179693108203939 WM DICE = 0.9465652798753016\n"
          ]
        }
      ]
    },
    {
      "cell_type": "markdown",
      "source": [],
      "metadata": {
        "id": "QPYKOqgj_Uue"
      }
    }
  ]
}