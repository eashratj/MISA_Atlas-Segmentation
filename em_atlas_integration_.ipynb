{
  "nbformat": 4,
  "nbformat_minor": 0,
  "metadata": {
    "colab": {
      "provenance": [],
      "include_colab_link": true
    },
    "kernelspec": {
      "name": "python3",
      "display_name": "Python 3"
    },
    "language_info": {
      "name": "python"
    }
  },
  "cells": [
    {
      "cell_type": "markdown",
      "metadata": {
        "id": "view-in-github",
        "colab_type": "text"
      },
      "source": [
        "<a href=\"https://colab.research.google.com/github/workwithjahan/MISA_Atlas-Segmentation/blob/main/em_atlas_integration_.ipynb\" target=\"_parent\"><img src=\"https://colab.research.google.com/assets/colab-badge.svg\" alt=\"Open In Colab\"/></a>"
      ]
    },
    {
      "cell_type": "code",
      "execution_count": null,
      "metadata": {
        "id": "GeBl-cLhxUzH"
      },
      "outputs": [],
      "source": [
        "from os import listdir\n",
        "from os.path import isdir, join\n",
        "import os\n",
        "import numpy as np\n",
        "import nibabel as nib\n",
        "import matplotlib.pyplot as plt\n",
        "%matplotlib inline\n",
        "\n",
        "\n",
        "\n",
        "from sklearn.cluster import KMeans\n",
        "from numpy.linalg import inv, det, norm\n",
        "from math import sqrt, pi\n",
        "from functools import partial\n",
        "#from scipy.spatial.distance import dice"
      ]
    },
    {
      "cell_type": "code",
      "source": [
        "def gaussian_mixture(features, mean, cov):\n",
        "    \"\"\"\n",
        "\n",
        "    \"\"\"\n",
        "    return np.exp(-0.5*(features - mean) * (1/cov) * np.transpose(features - mean)) / (2 * pi * sqrt(cov))\n",
        "\n",
        "\n",
        "def membership_weight(p0, p1, p2, a0, a1, a2):\n",
        "\n",
        "    denominator = (p0 * a0) + (p1 * a1) + (p2 * a2)\n",
        "    w0 = (p0 * a0) / denominator\n",
        "    w1 = (p1 * a1) / denominator\n",
        "    w2 = (p2 * a2) / denominator\n",
        "    \n",
        "    return np.stack((w0, w1, w2), axis=1)\n",
        "\n",
        "def get_log_likelihood(class_dist, gauss_density):\n",
        "    \"\"\"\n",
        "    Return loglikelihood.\n",
        "    \n",
        "    Parameters:\n",
        "        class_dist: iterable with class distributions.\n",
        "        gauss_density: iterable with Gaussian densities for each class.\n",
        "    \n",
        "    Returns:\n",
        "        float: log likelihood value. \n",
        "    \"\"\"\n",
        "    for index, alpha in enumerate(class_dist):\n",
        "        if index == 0:\n",
        "            total_sum = alpha * gauss_density[index]\n",
        "        else:\n",
        "            total_sum += alpha * gauss_density[index]\n",
        "    \n",
        "    return np.sum(np.log(total_sum))\n",
        "\n",
        "\n"
      ],
      "metadata": {
        "id": "jibsRm4h7f52"
      },
      "execution_count": null,
      "outputs": []
    },
    {
      "cell_type": "code",
      "source": [
        "# numeric labels for brain tissue types\n",
        "CSF_label = 1\n",
        "GM_label = 3\n",
        "WM_label = 2"
      ],
      "metadata": {
        "id": "-7f1V40n3Y2z"
      },
      "execution_count": null,
      "outputs": []
    },
    {
      "cell_type": "code",
      "source": [
        "MAX_STEPS = 30\n",
        "min_change = 0.01"
      ],
      "metadata": {
        "id": "BJ1Mk-XN7TJx"
      },
      "execution_count": null,
      "outputs": []
    },
    {
      "cell_type": "code",
      "source": [
        "from google.colab import drive\n",
        "drive.mount('/content/drive')"
      ],
      "metadata": {
        "colab": {
          "base_uri": "https://localhost:8080/"
        },
        "id": "bb14ZQc2A8fv",
        "outputId": "2f29840d-91de-4996-d042-4d48b0153e20"
      },
      "execution_count": null,
      "outputs": [
        {
          "output_type": "stream",
          "name": "stdout",
          "text": [
            "Drive already mounted at /content/drive; to attempt to forcibly remount, call drive.mount(\"/content/drive\", force_remount=True).\n"
          ]
        }
      ]
    },
    {
      "cell_type": "code",
      "source": [
        "\n",
        "\n",
        "test1=nib.load('/content/drive/MyDrive/MISA_MIRA_3/testing_images/1128.nii.gz')\n",
        "test=test1.get_fdata()\n",
        "\n",
        "mask=nib.load('/content/drive/MyDrive/MISA_MIRA_3/testing_mask/1128_1C.nii.gz')\n",
        "mask_data=mask.get_fdata()\n",
        "test_masked=np.multiply(test,mask_data)\n",
        "\n",
        "label=nib.load('/content/drive/MyDrive/MISA_MIRA_3/testing_labels/1128_3C.nii.gz')\n",
        "gt=label.get_fdata()\n",
        "\n",
        "# Pre-process feature vector to remove background points from algorithm\n",
        "            # and save those indicies to add back\n",
        "features = test_masked.copy().flatten()\n",
        "features = np.transpose(features)   \n",
        "features_nonzero_row_indicies = np.nonzero(features)\n",
        "features_nonzero = features[features_nonzero_row_indicies]"
      ],
      "metadata": {
        "id": "BjZnPjG68J5x"
      },
      "execution_count": null,
      "outputs": []
    },
    {
      "cell_type": "markdown",
      "source": [
        "Atlas integration "
      ],
      "metadata": {
        "id": "Yq1-G5qqStFU"
      }
    },
    {
      "cell_type": "code",
      "source": [
        "our_CSF=nib.load('/content/drive/MyDrive/MISA_MIRA_3/registered_MNI/CSF/CSF_MNI_atlas_registered_probability_10_1128.nii')\n",
        "csf_data=our_CSF.get_fdata()\n",
        "csf_mask=np.multiply(csf_data,mask_data)\n",
        "\n",
        "our_WM=nib.load('/content/drive/MyDrive/MISA_MIRA_3/registered_MNI/WM/WM_MNI_atlas_registered_probability_10_1128.nii')\n",
        "wm_data=our_WM.get_fdata()\n",
        "wm_mask=np.multiply(wm_data,mask_data)\n",
        "\n",
        "our_GM=nib.load('/content/drive/MyDrive/MISA_MIRA_3/registered_MNI/GM/GM_MNI_atlas_registered_probability_10_1128.nii')\n",
        "gm_data=our_GM.get_fdata()\n",
        "gm_mask=np.multiply(gm_data,mask_data)\n",
        "\n",
        "\n",
        "#flatten\n",
        "csf_flat_atlas=csf_mask.flatten()\n",
        "gm_flat_atlas=gm_mask.flatten()\n",
        "wm_flat_atlas=wm_mask.flatten()\n",
        "\n",
        "features_nonzero_pred_atlas = np.array((csf_flat_atlas[features_nonzero_row_indicies],\n",
        "                                                  wm_flat_atlas[features_nonzero_row_indicies],\n",
        "                                                  gm_flat_atlas[features_nonzero_row_indicies]))\n",
        "\n",
        "features_nonzero_pred_atlas.shape\n",
        "z=np.transpose(features_nonzero_pred_atlas)\n",
        "print(z.shape)\n",
        "\n",
        "\n"
      ],
      "metadata": {
        "colab": {
          "base_uri": "https://localhost:8080/"
        },
        "id": "J9gHesQnSs1J",
        "outputId": "9e380c12-cb93-4557-db38-506752130783"
      },
      "execution_count": null,
      "outputs": [
        {
          "output_type": "stream",
          "name": "stdout",
          "text": [
            "(993239, 3)\n"
          ]
        }
      ]
    },
    {
      "cell_type": "markdown",
      "source": [
        "#initialization"
      ],
      "metadata": {
        "id": "cmHvgy1ryAb1"
      }
    },
    {
      "cell_type": "markdown",
      "source": [
        "K-means"
      ],
      "metadata": {
        "id": "6_j6gzXQyC6V"
      }
    },
    {
      "cell_type": "markdown",
      "source": [
        "label propagation"
      ],
      "metadata": {
        "id": "w3kulUs1yEfd"
      }
    },
    {
      "cell_type": "markdown",
      "source": [
        "Tissue model"
      ],
      "metadata": {
        "id": "K67FQEVbSlhQ"
      }
    },
    {
      "cell_type": "code",
      "source": [
        "tissue_model_load=nib.load('/content/drive/MyDrive/MISA_MIRA_3/combined_seg/Combined_Segmentation_1128.nii.gz')\n",
        "t_m=test=tissue_model_load.get_fdata()\n",
        "plt.imshow(t_m[:,128,:],cmap='gray')\n"
      ],
      "metadata": {
        "id": "QVBFftqCx_3C",
        "colab": {
          "base_uri": "https://localhost:8080/",
          "height": 287
        },
        "outputId": "74601c57-48a5-4fdb-e144-278a8c7caba8"
      },
      "execution_count": null,
      "outputs": [
        {
          "output_type": "execute_result",
          "data": {
            "text/plain": [
              "<matplotlib.image.AxesImage at 0x7f0aecc40590>"
            ]
          },
          "metadata": {},
          "execution_count": 1139
        },
        {
          "output_type": "display_data",
          "data": {
            "text/plain": [
              "<Figure size 432x288 with 1 Axes>"
            ],
            "image/png": "[encoded data removed]"
          },
          "metadata": {
            "needs_background": "light"
          }
        }
      ]
    },
    {
      "cell_type": "code",
      "source": [
        "np.unique(t_m)"
      ],
      "metadata": {
        "colab": {
          "base_uri": "https://localhost:8080/"
        },
        "id": "nNxpqOB25fLu",
        "outputId": "50cbdace-63db-41f9-dd0f-a912b1d6440c"
      },
      "execution_count": null,
      "outputs": [
        {
          "output_type": "execute_result",
          "data": {
            "text/plain": [
              "array([0., 1., 2., 3.])"
            ]
          },
          "metadata": {},
          "execution_count": 1140
        }
      ]
    },
    {
      "cell_type": "code",
      "source": [
        "CSF_label=1\n",
        "GM_label=3\n",
        "WM_label=2\n",
        "CSF=(t_m == CSF_label)*1\n",
        "GM=(t_m == GM_label)*1\n",
        "WM=(t_m == WM_label)*1\n",
        "\n",
        "plt.imshow(CSF[:,128,:],cmap='gray')\n",
        "plt.show()\n",
        "\n",
        "#flatten\n",
        "csf_flat=CSF.flatten()\n",
        "gm_flat=GM.flatten()\n",
        "wm_flat=WM.flatten()\n",
        "features_nonzero_pred = np.array((csf_flat[features_nonzero_row_indicies],\n",
        "                                                  wm_flat[features_nonzero_row_indicies],\n",
        "                                                  gm_flat[features_nonzero_row_indicies]))\n",
        "y_pred= np.argmax(features_nonzero_pred, axis=0)"
      ],
      "metadata": {
        "colab": {
          "base_uri": "https://localhost:8080/",
          "height": 269
        },
        "id": "LPJffEFrycR1",
        "outputId": "da6fab65-de53-4c1e-83d1-4f616ece3f5f"
      },
      "execution_count": null,
      "outputs": [
        {
          "output_type": "display_data",
          "data": {
            "text/plain": [
              "<Figure size 432x288 with 1 Axes>"
            ],
            "image/png": "[encoded data removed]"
          },
          "metadata": {
            "needs_background": "light"
          }
        }
      ]
    },
    {
      "cell_type": "code",
      "source": [
        "\n",
        "def dice_similarity(Seg_img, GT_img,state):\n",
        "    \"\"\"   \n",
        "    Inputs:\n",
        "        Seg_img (numpy.ndarray): Segmented Image.\n",
        "        GT_img (numpy.ndarray): Ground Truth Image.\n",
        "        State: \"nifti\" if the images are nifti file\n",
        "               \"arr\"   if the images are an ndarray\n",
        "    output:\n",
        "        Dice Similarity Coefficient: dice_CSF, dice_GM, dice_WM.\"\"\"\n",
        "        \n",
        "    import numpy as np\n",
        "    if (state==\"nifti\"):\n",
        "       segmented_data = Seg_img.get_data().copy()\n",
        "       groundtruth_data = GT_img.get_data().copy()\n",
        "    elif (state==\"arr\"):\n",
        "       segmented_data = Seg_img.copy()\n",
        "       groundtruth_data = GT_img.copy()\n",
        "    \n",
        "    #Calculte DICE\n",
        "    def dice_coefficient(SI,GT):\n",
        "        #   2 * TP / (FN + (2 * TP) + FP)\n",
        "        intersection = np.logical_and(SI, GT)\n",
        "        return 2. * intersection.sum() / (SI.sum() + GT.sum())\n",
        "    \n",
        "    #Dice  for CSF\n",
        "    Seg_CSF = (segmented_data == 1)\n",
        "    GT_CSF = (groundtruth_data == 1)\n",
        "    dice_CSF = dice_coefficient(Seg_CSF, GT_CSF)\n",
        "    #Dice  for GM\n",
        "    Seg_GM = (segmented_data == 2)\n",
        "    GT_GM = (groundtruth_data == 2)\n",
        "    dice_GM = dice_coefficient(Seg_GM, GT_GM)\n",
        "    #Dice  for WM\n",
        "    Seg_WM = (segmented_data == 3)\n",
        "    GT_WM = (groundtruth_data == 3)\n",
        "    dice_WM = dice_coefficient(Seg_WM, GT_WM)\n",
        "    \n",
        "    return dice_CSF, dice_GM, dice_WM"
      ],
      "metadata": {
        "id": "rK7Z0Bze_dJ3"
      },
      "execution_count": null,
      "outputs": []
    },
    {
      "cell_type": "markdown",
      "source": [
        "EM"
      ],
      "metadata": {
        "id": "mt4huYpJ9LRJ"
      }
    },
    {
      "cell_type": "code",
      "source": [
        "# intialize EM algorithm\n",
        "class0 = features_nonzero[np.argwhere(y_pred == 0)[:,0]]\n",
        "class1 = features_nonzero[np.argwhere(y_pred == 1)[:,0]]\n",
        "class2 = features_nonzero[np.argwhere(y_pred == 2)[:,0]]\n",
        "  # Compute mean and variance of each class\n",
        "mean0 = np.mean(class0, axis = 0)\n",
        "mean1 = np.mean(class1, axis = 0)\n",
        "mean2 = np.mean(class2, axis = 0)\n",
        "cov0 = np.cov(class0, rowvar = False)\n",
        "cov1 = np.cov(class1, rowvar = False)\n",
        "cov2 = np.cov(class2, rowvar = False)\n",
        "# Class distribution\n",
        "a0 = class0.shape[0] / features_nonzero.shape[0]\n",
        "a1 = class1.shape[0] / features_nonzero.shape[0]\n",
        "a2 = class2.shape[0] / features_nonzero.shape[0]\n",
        "\n",
        "# Compute Gaussian mixture model for each point\n",
        "p0 = gaussian_mixture(features_nonzero,  mean = mean0, cov = cov0)\n",
        "p1 = gaussian_mixture(features_nonzero,  mean = mean1, cov = cov1)\n",
        "p2 = gaussian_mixture(features_nonzero,  mean = mean2, cov = cov2)\n",
        "\n",
        "# # Compute membership weight for each point\n",
        "weight = membership_weight(p0, p1, p2, a0, a1, a2)\n",
        "weights= np.multiply(weight,z)\n",
        " # get initial log-likelihood\n",
        "log_likelihood = get_log_likelihood((a0, a1, a2), (p0, p1, p2))"
      ],
      "metadata": {
        "id": "VlhXW45w9MH2"
      },
      "execution_count": null,
      "outputs": []
    },
    {
      "cell_type": "code",
      "source": [
        "n_steps = 0\n",
        "\n",
        "while True:\n",
        "  # Maximization step: Use that classification to reestimate the parameters\n",
        "                # Class distribution\n",
        "  counts = np.sum(weights, axis=0)\n",
        "  a0 = counts[0] / len(features_nonzero)\n",
        "  a1 = counts[1] / len(features_nonzero)\n",
        "  a2 = counts[2] / len(features_nonzero)\n",
        "\n",
        "\n",
        "# Calculate mean and covariance for new classes\n",
        "  mean0 = (1/counts[0]) * (weights[:, 0] @ features_nonzero)\n",
        "  mean1 = (1/counts[1]) * (weights[:, 1] @ features_nonzero)\n",
        "  mean2 = (1/counts[2]) * (weights[:, 2] @ features_nonzero)\n",
        "  cov0 = (1/counts[0]) * ((weights[:, 0] * (features_nonzero - mean0)) @ (features_nonzero - mean0))\n",
        "  cov1 = (1/counts[1]) * ((weights[:, 1] * (features_nonzero - mean1)) @ (features_nonzero - mean1))\n",
        "  cov2 = (1/counts[2]) * ((weights[:, 2] * (features_nonzero - mean2)) @ (features_nonzero - mean2))\n",
        "\n",
        "  p0 = gaussian_mixture(features_nonzero,  mean = mean0, cov = cov0)\n",
        "  p1 = gaussian_mixture(features_nonzero,  mean = mean1, cov = cov1)\n",
        "  p2 = gaussian_mixture(features_nonzero,  mean = mean2, cov = cov2)\n",
        "\n",
        "\n",
        "# Compute membership weight for each point\n",
        "  weights = membership_weight(p0, p1, p2, a0, a1, a2)\n",
        "  log_likelihood_new = get_log_likelihood((a0, a1, a2), (p0, p1, p2))\n",
        "\n",
        "  dist_change = abs((log_likelihood_new - log_likelihood) / log_likelihood)\n",
        "  print(\"********************************************************************\")\n",
        "  #print(f\"Img {f}\")\n",
        "  print(\"Step %d\" % n_steps)\n",
        "  print(\"Distribution change %f\" % dist_change)\n",
        "  print(a0, a1, a2)\n",
        "\n",
        "  n_steps += 1\n",
        "\n",
        "  \n",
        "# check whether we reached desired precision or max number of steps\n",
        "  if (n_steps >= MAX_STEPS) or (dist_change <= min_change):\n",
        "      print(\"Loop stopped\")\n",
        "      break\n",
        "  else:\n",
        "      log_likelihood = log_likelihood_new\n",
        "y_pred = np.argmax(weights, axis=1)+1\n",
        "y_pred"
      ],
      "metadata": {
        "colab": {
          "base_uri": "https://localhost:8080/"
        },
        "id": "vUOByYva910R",
        "outputId": "3403ddea-59ca-4fbc-87bc-69f952d7178b"
      },
      "execution_count": null,
      "outputs": [
        {
          "output_type": "stream",
          "name": "stdout",
          "text": [
            "********************************************************************\n",
            "Step 0\n",
            "Distribution change 0.084094\n",
            "0.010351533961215548 0.17555753891399578 0.32355762355997897\n",
            "********************************************************************\n",
            "Step 1\n",
            "Distribution change 0.079367\n",
            "0.01699255064614955 0.33367033729227774 0.6493371120613468\n",
            "********************************************************************\n",
            "Step 2\n",
            "Distribution change 0.000250\n",
            "0.015909073987695206 0.3299840037727081 0.6541069222396725\n",
            "Loop stopped\n"
          ]
        },
        {
          "output_type": "execute_result",
          "data": {
            "text/plain": [
              "array([3, 3, 3, ..., 3, 3, 3])"
            ]
          },
          "metadata": {},
          "execution_count": 1144
        }
      ]
    },
    {
      "cell_type": "code",
      "source": [
        "# Recontruction of the image\n",
        "# =============================================================================\n",
        "shape_original_image=test_masked.shape\n",
        "shape_flatten=features.shape\n",
        "segmented_image=np.zeros(shape_flatten)\n",
        "segmented_image[features_nonzero_row_indicies]=y_pred\n",
        "Seg=np.reshape(segmented_image,shape_original_image)\n",
        "\n",
        "plt.imshow(Seg[:,128,:], cmap='gray')\n",
        "plt.show()\n",
        "plt.imshow(gt[:,128,:], cmap='gray')\n",
        "plt.show()"
      ],
      "metadata": {
        "id": "qYgfdR4HAXeU",
        "colab": {
          "base_uri": "https://localhost:8080/",
          "height": 521
        },
        "outputId": "f8ccb5bb-a9c9-4ec3-b1fd-d7bb73ab5fdc"
      },
      "execution_count": null,
      "outputs": [
        {
          "output_type": "display_data",
          "data": {
            "text/plain": [
              "<Figure size 432x288 with 1 Axes>"
            ],
            "image/png": "[encoded data removed]"
          },
          "metadata": {
            "needs_background": "light"
          }
        },
        {
          "output_type": "display_data",
          "data": {
            "text/plain": [
              "<Figure size 432x288 with 1 Axes>"
            ],
            "image/png": "[encoded data removed]"
          },
          "metadata": {
            "needs_background": "light"
          }
        }
      ]
    },
    {
      "cell_type": "code",
      "source": [
        "print(np.unique(gt))\n",
        "print(np.unique(y_pred))\n",
        "####CALCULATINg DICE\n",
        "dice_CSF, dice_GM, dice_WM = dice_similarity(Seg,gt,\"arr\")\n",
        "print(\"CSF DICE = {}\".format(dice_CSF), \"GM DICE = {}\".format(dice_GM), \"WM DICE = {}\".format(dice_WM))"
      ],
      "metadata": {
        "colab": {
          "base_uri": "https://localhost:8080/"
        },
        "id": "OJzMRgqj_U-x",
        "outputId": "8dde2842-483e-4b8d-f91c-073d766378b1"
      },
      "execution_count": null,
      "outputs": [
        {
          "output_type": "stream",
          "name": "stdout",
          "text": [
            "[0. 1. 2. 3.]\n",
            "[1 2 3]\n",
            "CSF DICE = 0.635101626413105 GM DICE = 0.8421554725135159 WM DICE = 0.8964742565532735\n"
          ]
        }
      ]
    },
    {
      "cell_type": "markdown",
      "source": [],
      "metadata": {
        "id": "QPYKOqgj_Uue"
      }
    }
  ]
}